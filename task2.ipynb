{
 "cells": [
  {
   "cell_type": "code",
   "execution_count": null,
   "id": "f357763e-c221-4c78-86e2-bae3377fc1d7",
   "metadata": {},
   "outputs": [],
   "source": [
    "import os\n",
    "import sys\n",
    "import requests\n",
    "import re\n",
    "from bs4 import BeautifulSoup  # Import BeautifulSoup library"
   ]
  },
  {
   "cell_type": "code",
   "execution_count": null,
   "id": "d0ae41cc-0608-4c4d-80f7-1f319bcc76b9",
   "metadata": {},
   "outputs": [],
   "source": [
    "\n",
    "# function to get the html source text of the medium article\n",
    "def get_page():\n",
    "    global url\n",
    "\n",
    "    # Ask the user to input \"Enter url of a medium article: \" and collect it in url\n",
    "    url = input(\"Enter url of a medium article: \")\n",
    "\n",
    "    # handling possible error\n",
    "    if not re.match(r\"https?://medium.com/\", url):\n",
    "        print(\"Please enter a valid website, or make sure it is a Medium article\")\n",
    "        sys.exit(1)\n",
    "\n",
    "    # Call get method in requests object, pass url and collect it in res\n",
    "    res = requests.get(url)\n",
    "\n",
    "    res.raise_for_status()\n",
    "    soup = BeautifulSoup(res.text, \"html.parser\")\n",
    "    return soup\n"
   ]
  },
  {
   "cell_type": "code",
   "execution_count": null,
   "id": "47b313ec-5b33-4c9e-8e49-9da12af00b3f",
   "metadata": {},
   "outputs": [],
   "source": [
    "# function to remove all the html tags and replace some with specific strings\n",
    "def clean(text):\n",
    "    rep = {\"<br>\": \"\\n\", \"<br/>\": \"\\n\", \"<li>\": \"\\n\"}\n",
    "    rep = dict((re.escape(k), v) for k, v in rep.items())\n",
    "    pattern = re.compile(\"|\".join(rep.keys()))\n",
    "    text = pattern.sub(lambda m: rep[re.escape(m.group(0))], text)\n",
    "    text = re.sub(\"\\<(.*?)\\>\", \"\", text)\n",
    "    return text"
   ]
  },
  {
   "cell_type": "code",
   "execution_count": null,
   "id": "24aeab41-8d00-4f64-99cd-91ce526328e2",
   "metadata": {},
   "outputs": [],
   "source": [
    "def collect_text(soup):\n",
    "    text = f\"url: {url}\\n\\n\"\n",
    "    para_text = soup.find_all(\"p\")\n",
    "    print(f\"paragraphs text = \\n {para_text}\")\n",
    "    for para in para_text:\n",
    "        text += f\"{para.text}\\n\\n\"\n",
    "    return text"
   ]
  },
  {
   "cell_type": "code",
   "execution_count": null,
   "id": "6f0dfc80-276a-44f6-9519-dffc40bb6b53",
   "metadata": {},
   "outputs": [],
   "source": [
    "# function to save file in the current directory\n",
    "def save_file(text):\n",
    "    if not os.path.exists(\"./scraped_articles\"):\n",
    "        os.mkdir(\"./scraped_articles\")\n",
    "    name = url.split(\"/\")[-1]\n",
    "    print(name)\n",
    "    fname = f\"scraped_articles/{name}.txt\"\n",
    "\n",
    "    # write a file using with\n",
    "    with open(fname, \"w\", encoding=\"utf-8\") as file:\n",
    "        file.write(text)\n",
    "\n",
    "    print(f\"File saved in directory {fname}\")"
   ]
  },
  {
   "cell_type": "code",
   "execution_count": null,
   "id": "3606c0d0-ea5e-461a-88a6-6f18f72c890a",
   "metadata": {},
   "outputs": [],
   "source": [
    "if __name__ == \"__main__\":\n",
    "    text = collect_text(get_page())\n",
    "    save_file(text)\n",
    "    # Instructions to Run this python code\n",
    "    # Give url as https://medium.com/@subashgandyer/papa-what-is-a-neural-network-c5e5cc427c7"
   ]
  },
  {
   "cell_type": "code",
   "execution_count": null,
   "id": "d78ec4b0-8b6c-4f22-850f-8633e99f446d",
   "metadata": {},
   "outputs": [],
   "source": []
  }
 ],
 "metadata": {
  "kernelspec": {
   "display_name": "Python 3 (ipykernel)",
   "language": "python",
   "name": "python3"
  },
  "language_info": {
   "codemirror_mode": {
    "name": "ipython",
    "version": 3
   },
   "file_extension": ".py",
   "mimetype": "text/x-python",
   "name": "python",
   "nbconvert_exporter": "python",
   "pygments_lexer": "ipython3",
   "version": "3.12.2"
  }
 },
 "nbformat": 4,
 "nbformat_minor": 5
}
